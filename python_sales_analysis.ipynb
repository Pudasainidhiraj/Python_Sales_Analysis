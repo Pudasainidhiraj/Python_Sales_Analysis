{
 "cells": [
  {
   "cell_type": "code",
   "execution_count": 1,
   "id": "2e0e4a0f-cfe6-4711-bb0f-c91f0ccb4b39",
   "metadata": {},
   "outputs": [],
   "source": [
    "import numpy as np\n",
    "import pandas as pd\n",
    "import matplotlib.pyplot as plt\n",
    "%matplotlib inline\n",
    "import seaborn as sns "
   ]
  },
  {
   "cell_type": "code",
   "execution_count": 2,
   "id": "428da282-f15b-4d31-86ed-4ce714a15059",
   "metadata": {},
   "outputs": [],
   "source": [
    "df = pd.read_csv('Diwali sales Data.csv', encoding = 'unicode_escape')"
   ]
  },
  {
   "cell_type": "code",
   "execution_count": 3,
   "id": "6ebca5f5-d159-4f77-b707-83a1cf32f1da",
   "metadata": {},
   "outputs": [
    {
     "data": {
      "text/plain": [
       "(11251, 15)"
      ]
     },
     "execution_count": 3,
     "metadata": {},
     "output_type": "execute_result"
    }
   ],
   "source": [
    "df.shape"
   ]
  },
  {
   "cell_type": "code",
   "execution_count": 4,
   "id": "17822dad-249b-40f6-b39d-23f35707f66c",
   "metadata": {},
   "outputs": [
    {
     "data": {
      "text/html": [
       "<div>\n",
       "<style scoped>\n",
       "    .dataframe tbody tr th:only-of-type {\n",
       "        vertical-align: middle;\n",
       "    }\n",
       "\n",
       "    .dataframe tbody tr th {\n",
       "        vertical-align: top;\n",
       "    }\n",
       "\n",
       "    .dataframe thead th {\n",
       "        text-align: right;\n",
       "    }\n",
       "</style>\n",
       "<table border=\"1\" class=\"dataframe\">\n",
       "  <thead>\n",
       "    <tr style=\"text-align: right;\">\n",
       "      <th></th>\n",
       "      <th>User_ID</th>\n",
       "      <th>Cust_name</th>\n",
       "      <th>Product_ID</th>\n",
       "      <th>Gender</th>\n",
       "      <th>Age Group</th>\n",
       "      <th>Age</th>\n",
       "      <th>Marital_Status</th>\n",
       "      <th>State</th>\n",
       "      <th>Zone</th>\n",
       "      <th>Occupation</th>\n",
       "      <th>Product_Category</th>\n",
       "      <th>Orders</th>\n",
       "      <th>Amount</th>\n",
       "      <th>Status</th>\n",
       "      <th>unnamed1</th>\n",
       "    </tr>\n",
       "  </thead>\n",
       "  <tbody>\n",
       "    <tr>\n",
       "      <th>0</th>\n",
       "      <td>1002903</td>\n",
       "      <td>Sanskriti</td>\n",
       "      <td>P00125942</td>\n",
       "      <td>F</td>\n",
       "      <td>26-35</td>\n",
       "      <td>28</td>\n",
       "      <td>0</td>\n",
       "      <td>Maharashtra</td>\n",
       "      <td>Western</td>\n",
       "      <td>Healthcare</td>\n",
       "      <td>Auto</td>\n",
       "      <td>1</td>\n",
       "      <td>23952.00</td>\n",
       "      <td>NaN</td>\n",
       "      <td>NaN</td>\n",
       "    </tr>\n",
       "    <tr>\n",
       "      <th>1</th>\n",
       "      <td>1000732</td>\n",
       "      <td>Kartik</td>\n",
       "      <td>P00110942</td>\n",
       "      <td>F</td>\n",
       "      <td>26-35</td>\n",
       "      <td>35</td>\n",
       "      <td>1</td>\n",
       "      <td>Andhra Pradesh</td>\n",
       "      <td>Southern</td>\n",
       "      <td>Govt</td>\n",
       "      <td>Auto</td>\n",
       "      <td>3</td>\n",
       "      <td>23934.00</td>\n",
       "      <td>NaN</td>\n",
       "      <td>NaN</td>\n",
       "    </tr>\n",
       "    <tr>\n",
       "      <th>2</th>\n",
       "      <td>1001990</td>\n",
       "      <td>Bindu</td>\n",
       "      <td>P00118542</td>\n",
       "      <td>F</td>\n",
       "      <td>26-35</td>\n",
       "      <td>35</td>\n",
       "      <td>1</td>\n",
       "      <td>Uttar Pradesh</td>\n",
       "      <td>Central</td>\n",
       "      <td>Automobile</td>\n",
       "      <td>Auto</td>\n",
       "      <td>3</td>\n",
       "      <td>23924.00</td>\n",
       "      <td>NaN</td>\n",
       "      <td>NaN</td>\n",
       "    </tr>\n",
       "    <tr>\n",
       "      <th>3</th>\n",
       "      <td>1001425</td>\n",
       "      <td>Sudevi</td>\n",
       "      <td>P00237842</td>\n",
       "      <td>M</td>\n",
       "      <td>0-17</td>\n",
       "      <td>16</td>\n",
       "      <td>0</td>\n",
       "      <td>Karnataka</td>\n",
       "      <td>Southern</td>\n",
       "      <td>Construction</td>\n",
       "      <td>Auto</td>\n",
       "      <td>2</td>\n",
       "      <td>23912.00</td>\n",
       "      <td>NaN</td>\n",
       "      <td>NaN</td>\n",
       "    </tr>\n",
       "    <tr>\n",
       "      <th>4</th>\n",
       "      <td>1000588</td>\n",
       "      <td>Joni</td>\n",
       "      <td>P00057942</td>\n",
       "      <td>M</td>\n",
       "      <td>26-35</td>\n",
       "      <td>28</td>\n",
       "      <td>1</td>\n",
       "      <td>Gujarat</td>\n",
       "      <td>Western</td>\n",
       "      <td>Food Processing</td>\n",
       "      <td>Auto</td>\n",
       "      <td>2</td>\n",
       "      <td>23877.00</td>\n",
       "      <td>NaN</td>\n",
       "      <td>NaN</td>\n",
       "    </tr>\n",
       "    <tr>\n",
       "      <th>5</th>\n",
       "      <td>1000588</td>\n",
       "      <td>Joni</td>\n",
       "      <td>P00057942</td>\n",
       "      <td>M</td>\n",
       "      <td>26-35</td>\n",
       "      <td>28</td>\n",
       "      <td>1</td>\n",
       "      <td>Himachal Pradesh</td>\n",
       "      <td>Northern</td>\n",
       "      <td>Food Processing</td>\n",
       "      <td>Auto</td>\n",
       "      <td>1</td>\n",
       "      <td>23877.00</td>\n",
       "      <td>NaN</td>\n",
       "      <td>NaN</td>\n",
       "    </tr>\n",
       "    <tr>\n",
       "      <th>6</th>\n",
       "      <td>1001132</td>\n",
       "      <td>Balk</td>\n",
       "      <td>P00018042</td>\n",
       "      <td>F</td>\n",
       "      <td>18-25</td>\n",
       "      <td>25</td>\n",
       "      <td>1</td>\n",
       "      <td>Uttar Pradesh</td>\n",
       "      <td>Central</td>\n",
       "      <td>Lawyer</td>\n",
       "      <td>Auto</td>\n",
       "      <td>4</td>\n",
       "      <td>23841.00</td>\n",
       "      <td>NaN</td>\n",
       "      <td>NaN</td>\n",
       "    </tr>\n",
       "    <tr>\n",
       "      <th>7</th>\n",
       "      <td>1002092</td>\n",
       "      <td>Shivangi</td>\n",
       "      <td>P00273442</td>\n",
       "      <td>F</td>\n",
       "      <td>55+</td>\n",
       "      <td>61</td>\n",
       "      <td>0</td>\n",
       "      <td>Maharashtra</td>\n",
       "      <td>Western</td>\n",
       "      <td>IT Sector</td>\n",
       "      <td>Auto</td>\n",
       "      <td>1</td>\n",
       "      <td>NaN</td>\n",
       "      <td>NaN</td>\n",
       "      <td>NaN</td>\n",
       "    </tr>\n",
       "    <tr>\n",
       "      <th>8</th>\n",
       "      <td>1003224</td>\n",
       "      <td>Kushal</td>\n",
       "      <td>P00205642</td>\n",
       "      <td>M</td>\n",
       "      <td>26-35</td>\n",
       "      <td>35</td>\n",
       "      <td>0</td>\n",
       "      <td>Uttar Pradesh</td>\n",
       "      <td>Central</td>\n",
       "      <td>Govt</td>\n",
       "      <td>Auto</td>\n",
       "      <td>2</td>\n",
       "      <td>23809.00</td>\n",
       "      <td>NaN</td>\n",
       "      <td>NaN</td>\n",
       "    </tr>\n",
       "    <tr>\n",
       "      <th>9</th>\n",
       "      <td>1003650</td>\n",
       "      <td>Ginny</td>\n",
       "      <td>P00031142</td>\n",
       "      <td>F</td>\n",
       "      <td>26-35</td>\n",
       "      <td>26</td>\n",
       "      <td>1</td>\n",
       "      <td>Andhra Pradesh</td>\n",
       "      <td>Southern</td>\n",
       "      <td>Media</td>\n",
       "      <td>Auto</td>\n",
       "      <td>4</td>\n",
       "      <td>23799.99</td>\n",
       "      <td>NaN</td>\n",
       "      <td>NaN</td>\n",
       "    </tr>\n",
       "  </tbody>\n",
       "</table>\n",
       "</div>"
      ],
      "text/plain": [
       "   User_ID  Cust_name Product_ID Gender Age Group  Age  Marital_Status  \\\n",
       "0  1002903  Sanskriti  P00125942      F     26-35   28               0   \n",
       "1  1000732     Kartik  P00110942      F     26-35   35               1   \n",
       "2  1001990      Bindu  P00118542      F     26-35   35               1   \n",
       "3  1001425     Sudevi  P00237842      M      0-17   16               0   \n",
       "4  1000588       Joni  P00057942      M     26-35   28               1   \n",
       "5  1000588       Joni  P00057942      M     26-35   28               1   \n",
       "6  1001132       Balk  P00018042      F     18-25   25               1   \n",
       "7  1002092   Shivangi  P00273442      F       55+   61               0   \n",
       "8  1003224     Kushal  P00205642      M     26-35   35               0   \n",
       "9  1003650      Ginny  P00031142      F     26-35   26               1   \n",
       "\n",
       "              State      Zone       Occupation Product_Category  Orders  \\\n",
       "0       Maharashtra   Western       Healthcare             Auto       1   \n",
       "1    Andhra Pradesh  Southern             Govt             Auto       3   \n",
       "2     Uttar Pradesh   Central       Automobile             Auto       3   \n",
       "3         Karnataka  Southern     Construction             Auto       2   \n",
       "4           Gujarat   Western  Food Processing             Auto       2   \n",
       "5  Himachal Pradesh  Northern  Food Processing             Auto       1   \n",
       "6     Uttar Pradesh   Central           Lawyer             Auto       4   \n",
       "7       Maharashtra   Western        IT Sector             Auto       1   \n",
       "8     Uttar Pradesh   Central             Govt             Auto       2   \n",
       "9    Andhra Pradesh  Southern            Media             Auto       4   \n",
       "\n",
       "     Amount  Status  unnamed1  \n",
       "0  23952.00     NaN       NaN  \n",
       "1  23934.00     NaN       NaN  \n",
       "2  23924.00     NaN       NaN  \n",
       "3  23912.00     NaN       NaN  \n",
       "4  23877.00     NaN       NaN  \n",
       "5  23877.00     NaN       NaN  \n",
       "6  23841.00     NaN       NaN  \n",
       "7       NaN     NaN       NaN  \n",
       "8  23809.00     NaN       NaN  \n",
       "9  23799.99     NaN       NaN  "
      ]
     },
     "execution_count": 4,
     "metadata": {},
     "output_type": "execute_result"
    }
   ],
   "source": [
    "df.head(10)"
   ]
  },
  {
   "cell_type": "code",
   "execution_count": 5,
   "id": "acee00f4-7416-4e55-a699-5a6225fe6ec7",
   "metadata": {},
   "outputs": [
    {
     "data": {
      "text/html": [
       "<div>\n",
       "<style scoped>\n",
       "    .dataframe tbody tr th:only-of-type {\n",
       "        vertical-align: middle;\n",
       "    }\n",
       "\n",
       "    .dataframe tbody tr th {\n",
       "        vertical-align: top;\n",
       "    }\n",
       "\n",
       "    .dataframe thead th {\n",
       "        text-align: right;\n",
       "    }\n",
       "</style>\n",
       "<table border=\"1\" class=\"dataframe\">\n",
       "  <thead>\n",
       "    <tr style=\"text-align: right;\">\n",
       "      <th></th>\n",
       "      <th>User_ID</th>\n",
       "      <th>Cust_name</th>\n",
       "      <th>Product_ID</th>\n",
       "      <th>Gender</th>\n",
       "      <th>Age Group</th>\n",
       "      <th>Age</th>\n",
       "      <th>Marital_Status</th>\n",
       "      <th>State</th>\n",
       "      <th>Zone</th>\n",
       "      <th>Occupation</th>\n",
       "      <th>Product_Category</th>\n",
       "      <th>Orders</th>\n",
       "      <th>Amount</th>\n",
       "      <th>Status</th>\n",
       "      <th>unnamed1</th>\n",
       "    </tr>\n",
       "  </thead>\n",
       "  <tbody>\n",
       "    <tr>\n",
       "      <th>11241</th>\n",
       "      <td>1003032</td>\n",
       "      <td>Matthias</td>\n",
       "      <td>P00058042</td>\n",
       "      <td>F</td>\n",
       "      <td>26-35</td>\n",
       "      <td>33</td>\n",
       "      <td>0</td>\n",
       "      <td>Delhi</td>\n",
       "      <td>Central</td>\n",
       "      <td>Hospitality</td>\n",
       "      <td>Office</td>\n",
       "      <td>3</td>\n",
       "      <td>384.0</td>\n",
       "      <td>NaN</td>\n",
       "      <td>NaN</td>\n",
       "    </tr>\n",
       "    <tr>\n",
       "      <th>11242</th>\n",
       "      <td>1004344</td>\n",
       "      <td>Hildebrand</td>\n",
       "      <td>P00185442</td>\n",
       "      <td>F</td>\n",
       "      <td>26-35</td>\n",
       "      <td>27</td>\n",
       "      <td>1</td>\n",
       "      <td>Delhi</td>\n",
       "      <td>Central</td>\n",
       "      <td>Healthcare</td>\n",
       "      <td>Office</td>\n",
       "      <td>2</td>\n",
       "      <td>382.0</td>\n",
       "      <td>NaN</td>\n",
       "      <td>NaN</td>\n",
       "    </tr>\n",
       "    <tr>\n",
       "      <th>11243</th>\n",
       "      <td>1005446</td>\n",
       "      <td>Sheetal</td>\n",
       "      <td>P00297742</td>\n",
       "      <td>M</td>\n",
       "      <td>51-55</td>\n",
       "      <td>53</td>\n",
       "      <td>0</td>\n",
       "      <td>Gujarat</td>\n",
       "      <td>Western</td>\n",
       "      <td>Healthcare</td>\n",
       "      <td>Office</td>\n",
       "      <td>1</td>\n",
       "      <td>382.0</td>\n",
       "      <td>NaN</td>\n",
       "      <td>NaN</td>\n",
       "    </tr>\n",
       "    <tr>\n",
       "      <th>11244</th>\n",
       "      <td>1005446</td>\n",
       "      <td>Sheetal</td>\n",
       "      <td>P00297742</td>\n",
       "      <td>M</td>\n",
       "      <td>51-55</td>\n",
       "      <td>53</td>\n",
       "      <td>0</td>\n",
       "      <td>Madhya Pradesh</td>\n",
       "      <td>Central</td>\n",
       "      <td>Healthcare</td>\n",
       "      <td>Office</td>\n",
       "      <td>2</td>\n",
       "      <td>382.0</td>\n",
       "      <td>NaN</td>\n",
       "      <td>NaN</td>\n",
       "    </tr>\n",
       "    <tr>\n",
       "      <th>11245</th>\n",
       "      <td>1004140</td>\n",
       "      <td>Bertelson</td>\n",
       "      <td>P00057442</td>\n",
       "      <td>F</td>\n",
       "      <td>26-35</td>\n",
       "      <td>31</td>\n",
       "      <td>1</td>\n",
       "      <td>Delhi</td>\n",
       "      <td>Central</td>\n",
       "      <td>Aviation</td>\n",
       "      <td>Office</td>\n",
       "      <td>2</td>\n",
       "      <td>381.0</td>\n",
       "      <td>NaN</td>\n",
       "      <td>NaN</td>\n",
       "    </tr>\n",
       "    <tr>\n",
       "      <th>11246</th>\n",
       "      <td>1000695</td>\n",
       "      <td>Manning</td>\n",
       "      <td>P00296942</td>\n",
       "      <td>M</td>\n",
       "      <td>18-25</td>\n",
       "      <td>19</td>\n",
       "      <td>1</td>\n",
       "      <td>Maharashtra</td>\n",
       "      <td>Western</td>\n",
       "      <td>Chemical</td>\n",
       "      <td>Office</td>\n",
       "      <td>4</td>\n",
       "      <td>370.0</td>\n",
       "      <td>NaN</td>\n",
       "      <td>NaN</td>\n",
       "    </tr>\n",
       "    <tr>\n",
       "      <th>11247</th>\n",
       "      <td>1004089</td>\n",
       "      <td>Reichenbach</td>\n",
       "      <td>P00171342</td>\n",
       "      <td>M</td>\n",
       "      <td>26-35</td>\n",
       "      <td>33</td>\n",
       "      <td>0</td>\n",
       "      <td>Haryana</td>\n",
       "      <td>Northern</td>\n",
       "      <td>Healthcare</td>\n",
       "      <td>Veterinary</td>\n",
       "      <td>3</td>\n",
       "      <td>367.0</td>\n",
       "      <td>NaN</td>\n",
       "      <td>NaN</td>\n",
       "    </tr>\n",
       "    <tr>\n",
       "      <th>11248</th>\n",
       "      <td>1001209</td>\n",
       "      <td>Oshin</td>\n",
       "      <td>P00201342</td>\n",
       "      <td>F</td>\n",
       "      <td>36-45</td>\n",
       "      <td>40</td>\n",
       "      <td>0</td>\n",
       "      <td>Madhya Pradesh</td>\n",
       "      <td>Central</td>\n",
       "      <td>Textile</td>\n",
       "      <td>Office</td>\n",
       "      <td>4</td>\n",
       "      <td>213.0</td>\n",
       "      <td>NaN</td>\n",
       "      <td>NaN</td>\n",
       "    </tr>\n",
       "    <tr>\n",
       "      <th>11249</th>\n",
       "      <td>1004023</td>\n",
       "      <td>Noonan</td>\n",
       "      <td>P00059442</td>\n",
       "      <td>M</td>\n",
       "      <td>36-45</td>\n",
       "      <td>37</td>\n",
       "      <td>0</td>\n",
       "      <td>Karnataka</td>\n",
       "      <td>Southern</td>\n",
       "      <td>Agriculture</td>\n",
       "      <td>Office</td>\n",
       "      <td>3</td>\n",
       "      <td>206.0</td>\n",
       "      <td>NaN</td>\n",
       "      <td>NaN</td>\n",
       "    </tr>\n",
       "    <tr>\n",
       "      <th>11250</th>\n",
       "      <td>1002744</td>\n",
       "      <td>Brumley</td>\n",
       "      <td>P00281742</td>\n",
       "      <td>F</td>\n",
       "      <td>18-25</td>\n",
       "      <td>19</td>\n",
       "      <td>0</td>\n",
       "      <td>Maharashtra</td>\n",
       "      <td>Western</td>\n",
       "      <td>Healthcare</td>\n",
       "      <td>Office</td>\n",
       "      <td>3</td>\n",
       "      <td>188.0</td>\n",
       "      <td>NaN</td>\n",
       "      <td>NaN</td>\n",
       "    </tr>\n",
       "  </tbody>\n",
       "</table>\n",
       "</div>"
      ],
      "text/plain": [
       "       User_ID    Cust_name Product_ID Gender Age Group  Age  Marital_Status  \\\n",
       "11241  1003032     Matthias  P00058042      F     26-35   33               0   \n",
       "11242  1004344   Hildebrand  P00185442      F     26-35   27               1   \n",
       "11243  1005446      Sheetal  P00297742      M     51-55   53               0   \n",
       "11244  1005446      Sheetal  P00297742      M     51-55   53               0   \n",
       "11245  1004140    Bertelson  P00057442      F     26-35   31               1   \n",
       "11246  1000695      Manning  P00296942      M     18-25   19               1   \n",
       "11247  1004089  Reichenbach  P00171342      M     26-35   33               0   \n",
       "11248  1001209        Oshin  P00201342      F     36-45   40               0   \n",
       "11249  1004023       Noonan  P00059442      M     36-45   37               0   \n",
       "11250  1002744      Brumley  P00281742      F     18-25   19               0   \n",
       "\n",
       "                State      Zone   Occupation Product_Category  Orders  Amount  \\\n",
       "11241           Delhi   Central  Hospitality           Office       3   384.0   \n",
       "11242           Delhi   Central   Healthcare           Office       2   382.0   \n",
       "11243         Gujarat   Western   Healthcare           Office       1   382.0   \n",
       "11244  Madhya Pradesh   Central   Healthcare           Office       2   382.0   \n",
       "11245           Delhi   Central     Aviation           Office       2   381.0   \n",
       "11246     Maharashtra   Western     Chemical           Office       4   370.0   \n",
       "11247         Haryana  Northern   Healthcare       Veterinary       3   367.0   \n",
       "11248  Madhya Pradesh   Central      Textile           Office       4   213.0   \n",
       "11249       Karnataka  Southern  Agriculture           Office       3   206.0   \n",
       "11250     Maharashtra   Western   Healthcare           Office       3   188.0   \n",
       "\n",
       "       Status  unnamed1  \n",
       "11241     NaN       NaN  \n",
       "11242     NaN       NaN  \n",
       "11243     NaN       NaN  \n",
       "11244     NaN       NaN  \n",
       "11245     NaN       NaN  \n",
       "11246     NaN       NaN  \n",
       "11247     NaN       NaN  \n",
       "11248     NaN       NaN  \n",
       "11249     NaN       NaN  \n",
       "11250     NaN       NaN  "
      ]
     },
     "execution_count": 5,
     "metadata": {},
     "output_type": "execute_result"
    }
   ],
   "source": [
    "df.tail(10)"
   ]
  },
  {
   "cell_type": "code",
   "execution_count": 6,
   "id": "3a7d1f6c-1880-444d-b701-82fc94ce000a",
   "metadata": {},
   "outputs": [
    {
     "name": "stdout",
     "output_type": "stream",
     "text": [
      "<class 'pandas.core.frame.DataFrame'>\n",
      "RangeIndex: 11251 entries, 0 to 11250\n",
      "Data columns (total 15 columns):\n",
      " #   Column            Non-Null Count  Dtype  \n",
      "---  ------            --------------  -----  \n",
      " 0   User_ID           11251 non-null  int64  \n",
      " 1   Cust_name         11251 non-null  object \n",
      " 2   Product_ID        11251 non-null  object \n",
      " 3   Gender            11251 non-null  object \n",
      " 4   Age Group         11251 non-null  object \n",
      " 5   Age               11251 non-null  int64  \n",
      " 6   Marital_Status    11251 non-null  int64  \n",
      " 7   State             11251 non-null  object \n",
      " 8   Zone              11251 non-null  object \n",
      " 9   Occupation        11251 non-null  object \n",
      " 10  Product_Category  11251 non-null  object \n",
      " 11  Orders            11251 non-null  int64  \n",
      " 12  Amount            11239 non-null  float64\n",
      " 13  Status            0 non-null      float64\n",
      " 14  unnamed1          0 non-null      float64\n",
      "dtypes: float64(3), int64(4), object(8)\n",
      "memory usage: 1.3+ MB\n"
     ]
    }
   ],
   "source": [
    "df.info()"
   ]
  },
  {
   "cell_type": "code",
   "execution_count": 7,
   "id": "4c312134-1dcd-41ee-8fec-381a21f72556",
   "metadata": {},
   "outputs": [],
   "source": [
    "df.drop(['Status' , 'unnamed1'], axis = 1 , inplace = True)"
   ]
  },
  {
   "cell_type": "code",
   "execution_count": 8,
   "id": "3d74cc10-cd78-42b4-a870-ecf40c7a8620",
   "metadata": {},
   "outputs": [
    {
     "name": "stdout",
     "output_type": "stream",
     "text": [
      "<class 'pandas.core.frame.DataFrame'>\n",
      "RangeIndex: 11251 entries, 0 to 11250\n",
      "Data columns (total 13 columns):\n",
      " #   Column            Non-Null Count  Dtype  \n",
      "---  ------            --------------  -----  \n",
      " 0   User_ID           11251 non-null  int64  \n",
      " 1   Cust_name         11251 non-null  object \n",
      " 2   Product_ID        11251 non-null  object \n",
      " 3   Gender            11251 non-null  object \n",
      " 4   Age Group         11251 non-null  object \n",
      " 5   Age               11251 non-null  int64  \n",
      " 6   Marital_Status    11251 non-null  int64  \n",
      " 7   State             11251 non-null  object \n",
      " 8   Zone              11251 non-null  object \n",
      " 9   Occupation        11251 non-null  object \n",
      " 10  Product_Category  11251 non-null  object \n",
      " 11  Orders            11251 non-null  int64  \n",
      " 12  Amount            11239 non-null  float64\n",
      "dtypes: float64(1), int64(4), object(8)\n",
      "memory usage: 1.1+ MB\n"
     ]
    }
   ],
   "source": [
    "df.info()"
   ]
  },
  {
   "cell_type": "code",
   "execution_count": 9,
   "id": "8cc2635c-2314-4f13-9ad6-e9bdb654c094",
   "metadata": {},
   "outputs": [
    {
     "data": {
      "text/html": [
       "<div>\n",
       "<style scoped>\n",
       "    .dataframe tbody tr th:only-of-type {\n",
       "        vertical-align: middle;\n",
       "    }\n",
       "\n",
       "    .dataframe tbody tr th {\n",
       "        vertical-align: top;\n",
       "    }\n",
       "\n",
       "    .dataframe thead th {\n",
       "        text-align: right;\n",
       "    }\n",
       "</style>\n",
       "<table border=\"1\" class=\"dataframe\">\n",
       "  <thead>\n",
       "    <tr style=\"text-align: right;\">\n",
       "      <th></th>\n",
       "      <th>User_ID</th>\n",
       "      <th>Cust_name</th>\n",
       "      <th>Product_ID</th>\n",
       "      <th>Gender</th>\n",
       "      <th>Age Group</th>\n",
       "      <th>Age</th>\n",
       "      <th>Marital_Status</th>\n",
       "      <th>State</th>\n",
       "      <th>Zone</th>\n",
       "      <th>Occupation</th>\n",
       "      <th>Product_Category</th>\n",
       "      <th>Orders</th>\n",
       "      <th>Amount</th>\n",
       "    </tr>\n",
       "  </thead>\n",
       "  <tbody>\n",
       "    <tr>\n",
       "      <th>0</th>\n",
       "      <td>False</td>\n",
       "      <td>False</td>\n",
       "      <td>False</td>\n",
       "      <td>False</td>\n",
       "      <td>False</td>\n",
       "      <td>False</td>\n",
       "      <td>False</td>\n",
       "      <td>False</td>\n",
       "      <td>False</td>\n",
       "      <td>False</td>\n",
       "      <td>False</td>\n",
       "      <td>False</td>\n",
       "      <td>False</td>\n",
       "    </tr>\n",
       "    <tr>\n",
       "      <th>1</th>\n",
       "      <td>False</td>\n",
       "      <td>False</td>\n",
       "      <td>False</td>\n",
       "      <td>False</td>\n",
       "      <td>False</td>\n",
       "      <td>False</td>\n",
       "      <td>False</td>\n",
       "      <td>False</td>\n",
       "      <td>False</td>\n",
       "      <td>False</td>\n",
       "      <td>False</td>\n",
       "      <td>False</td>\n",
       "      <td>False</td>\n",
       "    </tr>\n",
       "    <tr>\n",
       "      <th>2</th>\n",
       "      <td>False</td>\n",
       "      <td>False</td>\n",
       "      <td>False</td>\n",
       "      <td>False</td>\n",
       "      <td>False</td>\n",
       "      <td>False</td>\n",
       "      <td>False</td>\n",
       "      <td>False</td>\n",
       "      <td>False</td>\n",
       "      <td>False</td>\n",
       "      <td>False</td>\n",
       "      <td>False</td>\n",
       "      <td>False</td>\n",
       "    </tr>\n",
       "    <tr>\n",
       "      <th>3</th>\n",
       "      <td>False</td>\n",
       "      <td>False</td>\n",
       "      <td>False</td>\n",
       "      <td>False</td>\n",
       "      <td>False</td>\n",
       "      <td>False</td>\n",
       "      <td>False</td>\n",
       "      <td>False</td>\n",
       "      <td>False</td>\n",
       "      <td>False</td>\n",
       "      <td>False</td>\n",
       "      <td>False</td>\n",
       "      <td>False</td>\n",
       "    </tr>\n",
       "    <tr>\n",
       "      <th>4</th>\n",
       "      <td>False</td>\n",
       "      <td>False</td>\n",
       "      <td>False</td>\n",
       "      <td>False</td>\n",
       "      <td>False</td>\n",
       "      <td>False</td>\n",
       "      <td>False</td>\n",
       "      <td>False</td>\n",
       "      <td>False</td>\n",
       "      <td>False</td>\n",
       "      <td>False</td>\n",
       "      <td>False</td>\n",
       "      <td>False</td>\n",
       "    </tr>\n",
       "    <tr>\n",
       "      <th>...</th>\n",
       "      <td>...</td>\n",
       "      <td>...</td>\n",
       "      <td>...</td>\n",
       "      <td>...</td>\n",
       "      <td>...</td>\n",
       "      <td>...</td>\n",
       "      <td>...</td>\n",
       "      <td>...</td>\n",
       "      <td>...</td>\n",
       "      <td>...</td>\n",
       "      <td>...</td>\n",
       "      <td>...</td>\n",
       "      <td>...</td>\n",
       "    </tr>\n",
       "    <tr>\n",
       "      <th>11246</th>\n",
       "      <td>False</td>\n",
       "      <td>False</td>\n",
       "      <td>False</td>\n",
       "      <td>False</td>\n",
       "      <td>False</td>\n",
       "      <td>False</td>\n",
       "      <td>False</td>\n",
       "      <td>False</td>\n",
       "      <td>False</td>\n",
       "      <td>False</td>\n",
       "      <td>False</td>\n",
       "      <td>False</td>\n",
       "      <td>False</td>\n",
       "    </tr>\n",
       "    <tr>\n",
       "      <th>11247</th>\n",
       "      <td>False</td>\n",
       "      <td>False</td>\n",
       "      <td>False</td>\n",
       "      <td>False</td>\n",
       "      <td>False</td>\n",
       "      <td>False</td>\n",
       "      <td>False</td>\n",
       "      <td>False</td>\n",
       "      <td>False</td>\n",
       "      <td>False</td>\n",
       "      <td>False</td>\n",
       "      <td>False</td>\n",
       "      <td>False</td>\n",
       "    </tr>\n",
       "    <tr>\n",
       "      <th>11248</th>\n",
       "      <td>False</td>\n",
       "      <td>False</td>\n",
       "      <td>False</td>\n",
       "      <td>False</td>\n",
       "      <td>False</td>\n",
       "      <td>False</td>\n",
       "      <td>False</td>\n",
       "      <td>False</td>\n",
       "      <td>False</td>\n",
       "      <td>False</td>\n",
       "      <td>False</td>\n",
       "      <td>False</td>\n",
       "      <td>False</td>\n",
       "    </tr>\n",
       "    <tr>\n",
       "      <th>11249</th>\n",
       "      <td>False</td>\n",
       "      <td>False</td>\n",
       "      <td>False</td>\n",
       "      <td>False</td>\n",
       "      <td>False</td>\n",
       "      <td>False</td>\n",
       "      <td>False</td>\n",
       "      <td>False</td>\n",
       "      <td>False</td>\n",
       "      <td>False</td>\n",
       "      <td>False</td>\n",
       "      <td>False</td>\n",
       "      <td>False</td>\n",
       "    </tr>\n",
       "    <tr>\n",
       "      <th>11250</th>\n",
       "      <td>False</td>\n",
       "      <td>False</td>\n",
       "      <td>False</td>\n",
       "      <td>False</td>\n",
       "      <td>False</td>\n",
       "      <td>False</td>\n",
       "      <td>False</td>\n",
       "      <td>False</td>\n",
       "      <td>False</td>\n",
       "      <td>False</td>\n",
       "      <td>False</td>\n",
       "      <td>False</td>\n",
       "      <td>False</td>\n",
       "    </tr>\n",
       "  </tbody>\n",
       "</table>\n",
       "<p>11251 rows × 13 columns</p>\n",
       "</div>"
      ],
      "text/plain": [
       "       User_ID  Cust_name  Product_ID  Gender  Age Group    Age  \\\n",
       "0        False      False       False   False      False  False   \n",
       "1        False      False       False   False      False  False   \n",
       "2        False      False       False   False      False  False   \n",
       "3        False      False       False   False      False  False   \n",
       "4        False      False       False   False      False  False   \n",
       "...        ...        ...         ...     ...        ...    ...   \n",
       "11246    False      False       False   False      False  False   \n",
       "11247    False      False       False   False      False  False   \n",
       "11248    False      False       False   False      False  False   \n",
       "11249    False      False       False   False      False  False   \n",
       "11250    False      False       False   False      False  False   \n",
       "\n",
       "       Marital_Status  State   Zone  Occupation  Product_Category  Orders  \\\n",
       "0               False  False  False       False             False   False   \n",
       "1               False  False  False       False             False   False   \n",
       "2               False  False  False       False             False   False   \n",
       "3               False  False  False       False             False   False   \n",
       "4               False  False  False       False             False   False   \n",
       "...               ...    ...    ...         ...               ...     ...   \n",
       "11246           False  False  False       False             False   False   \n",
       "11247           False  False  False       False             False   False   \n",
       "11248           False  False  False       False             False   False   \n",
       "11249           False  False  False       False             False   False   \n",
       "11250           False  False  False       False             False   False   \n",
       "\n",
       "       Amount  \n",
       "0       False  \n",
       "1       False  \n",
       "2       False  \n",
       "3       False  \n",
       "4       False  \n",
       "...       ...  \n",
       "11246   False  \n",
       "11247   False  \n",
       "11248   False  \n",
       "11249   False  \n",
       "11250   False  \n",
       "\n",
       "[11251 rows x 13 columns]"
      ]
     },
     "execution_count": 9,
     "metadata": {},
     "output_type": "execute_result"
    }
   ],
   "source": [
    "pd.isnull(df)"
   ]
  },
  {
   "cell_type": "code",
   "execution_count": 10,
   "id": "7603605c-88cb-44ab-badd-2217158620ae",
   "metadata": {},
   "outputs": [
    {
     "data": {
      "text/plain": [
       "User_ID              0\n",
       "Cust_name            0\n",
       "Product_ID           0\n",
       "Gender               0\n",
       "Age Group            0\n",
       "Age                  0\n",
       "Marital_Status       0\n",
       "State                0\n",
       "Zone                 0\n",
       "Occupation           0\n",
       "Product_Category     0\n",
       "Orders               0\n",
       "Amount              12\n",
       "dtype: int64"
      ]
     },
     "execution_count": 10,
     "metadata": {},
     "output_type": "execute_result"
    }
   ],
   "source": [
    "pd.isnull(df).sum()"
   ]
  },
  {
   "cell_type": "code",
   "execution_count": 11,
   "id": "fffa48d7-c306-4e39-8587-f18315624307",
   "metadata": {},
   "outputs": [
    {
     "data": {
      "text/plain": [
       "(11251, 13)"
      ]
     },
     "execution_count": 11,
     "metadata": {},
     "output_type": "execute_result"
    }
   ],
   "source": [
    "df.shape"
   ]
  },
  {
   "cell_type": "code",
   "execution_count": 12,
   "id": "b7021844-df9c-4f84-ab00-27306fbd07b6",
   "metadata": {},
   "outputs": [],
   "source": [
    "df.dropna(inplace=True)"
   ]
  },
  {
   "cell_type": "code",
   "execution_count": 13,
   "id": "e121ea51-f80d-4d69-a656-fdef16e040e3",
   "metadata": {},
   "outputs": [
    {
     "data": {
      "text/plain": [
       "(11239, 13)"
      ]
     },
     "execution_count": 13,
     "metadata": {},
     "output_type": "execute_result"
    }
   ],
   "source": [
    "df.shape"
   ]
  },
  {
   "cell_type": "code",
   "execution_count": 14,
   "id": "a2c670be-e89d-4222-b87a-19e50423de23",
   "metadata": {},
   "outputs": [
    {
     "data": {
      "text/plain": [
       "User_ID             0\n",
       "Cust_name           0\n",
       "Product_ID          0\n",
       "Gender              0\n",
       "Age Group           0\n",
       "Age                 0\n",
       "Marital_Status      0\n",
       "State               0\n",
       "Zone                0\n",
       "Occupation          0\n",
       "Product_Category    0\n",
       "Orders              0\n",
       "Amount              0\n",
       "dtype: int64"
      ]
     },
     "execution_count": 14,
     "metadata": {},
     "output_type": "execute_result"
    }
   ],
   "source": [
    "pd.isnull(df).sum()"
   ]
  },
  {
   "cell_type": "code",
   "execution_count": 15,
   "id": "220e3156-88c1-44b0-aefd-dda406ee5c2f",
   "metadata": {},
   "outputs": [
    {
     "data": {
      "text/html": [
       "<div>\n",
       "<style scoped>\n",
       "    .dataframe tbody tr th:only-of-type {\n",
       "        vertical-align: middle;\n",
       "    }\n",
       "\n",
       "    .dataframe tbody tr th {\n",
       "        vertical-align: top;\n",
       "    }\n",
       "\n",
       "    .dataframe thead th {\n",
       "        text-align: right;\n",
       "    }\n",
       "</style>\n",
       "<table border=\"1\" class=\"dataframe\">\n",
       "  <thead>\n",
       "    <tr style=\"text-align: right;\">\n",
       "      <th></th>\n",
       "      <th>Name</th>\n",
       "      <th>Age</th>\n",
       "    </tr>\n",
       "  </thead>\n",
       "  <tbody>\n",
       "    <tr>\n",
       "      <th>0</th>\n",
       "      <td>Madhav</td>\n",
       "      <td>11.0</td>\n",
       "    </tr>\n",
       "    <tr>\n",
       "      <th>1</th>\n",
       "      <td>Gopi</td>\n",
       "      <td>12.0</td>\n",
       "    </tr>\n",
       "    <tr>\n",
       "      <th>2</th>\n",
       "      <td>Dhiraj</td>\n",
       "      <td>NaN</td>\n",
       "    </tr>\n",
       "    <tr>\n",
       "      <th>3</th>\n",
       "      <td>Pragya</td>\n",
       "      <td>12.0</td>\n",
       "    </tr>\n",
       "  </tbody>\n",
       "</table>\n",
       "</div>"
      ],
      "text/plain": [
       "     Name   Age\n",
       "0  Madhav  11.0\n",
       "1    Gopi  12.0\n",
       "2  Dhiraj   NaN\n",
       "3  Pragya  12.0"
      ]
     },
     "execution_count": 15,
     "metadata": {},
     "output_type": "execute_result"
    }
   ],
   "source": [
    "data_test = [['Madhav' , 11],['Gopi', 12], ['Dhiraj'] , ['Pragya' , 12]]\n",
    "\n",
    "df_test = pd.DataFrame(data_test , columns = ['Name' , 'Age'])\n",
    "\n",
    "df_test"
   ]
  },
  {
   "cell_type": "code",
   "execution_count": 16,
   "id": "53e178a7-34f0-4c33-b8a7-4a49c8e91bf8",
   "metadata": {},
   "outputs": [
    {
     "data": {
      "text/html": [
       "<div>\n",
       "<style scoped>\n",
       "    .dataframe tbody tr th:only-of-type {\n",
       "        vertical-align: middle;\n",
       "    }\n",
       "\n",
       "    .dataframe tbody tr th {\n",
       "        vertical-align: top;\n",
       "    }\n",
       "\n",
       "    .dataframe thead th {\n",
       "        text-align: right;\n",
       "    }\n",
       "</style>\n",
       "<table border=\"1\" class=\"dataframe\">\n",
       "  <thead>\n",
       "    <tr style=\"text-align: right;\">\n",
       "      <th></th>\n",
       "      <th>Name</th>\n",
       "      <th>Age</th>\n",
       "    </tr>\n",
       "  </thead>\n",
       "  <tbody>\n",
       "    <tr>\n",
       "      <th>0</th>\n",
       "      <td>Madhav</td>\n",
       "      <td>11.0</td>\n",
       "    </tr>\n",
       "    <tr>\n",
       "      <th>1</th>\n",
       "      <td>Gopi</td>\n",
       "      <td>12.0</td>\n",
       "    </tr>\n",
       "    <tr>\n",
       "      <th>3</th>\n",
       "      <td>Pragya</td>\n",
       "      <td>12.0</td>\n",
       "    </tr>\n",
       "  </tbody>\n",
       "</table>\n",
       "</div>"
      ],
      "text/plain": [
       "     Name   Age\n",
       "0  Madhav  11.0\n",
       "1    Gopi  12.0\n",
       "3  Pragya  12.0"
      ]
     },
     "execution_count": 16,
     "metadata": {},
     "output_type": "execute_result"
    }
   ],
   "source": [
    "df_test.dropna()"
   ]
  },
  {
   "cell_type": "code",
   "execution_count": 17,
   "id": "159ee777-f55c-4a05-a956-38d2fa2f2ccd",
   "metadata": {},
   "outputs": [
    {
     "data": {
      "text/html": [
       "<div>\n",
       "<style scoped>\n",
       "    .dataframe tbody tr th:only-of-type {\n",
       "        vertical-align: middle;\n",
       "    }\n",
       "\n",
       "    .dataframe tbody tr th {\n",
       "        vertical-align: top;\n",
       "    }\n",
       "\n",
       "    .dataframe thead th {\n",
       "        text-align: right;\n",
       "    }\n",
       "</style>\n",
       "<table border=\"1\" class=\"dataframe\">\n",
       "  <thead>\n",
       "    <tr style=\"text-align: right;\">\n",
       "      <th></th>\n",
       "      <th>Name</th>\n",
       "      <th>Age</th>\n",
       "    </tr>\n",
       "  </thead>\n",
       "  <tbody>\n",
       "    <tr>\n",
       "      <th>0</th>\n",
       "      <td>Madhav</td>\n",
       "      <td>11.0</td>\n",
       "    </tr>\n",
       "    <tr>\n",
       "      <th>1</th>\n",
       "      <td>Gopi</td>\n",
       "      <td>12.0</td>\n",
       "    </tr>\n",
       "    <tr>\n",
       "      <th>2</th>\n",
       "      <td>Dhiraj</td>\n",
       "      <td>NaN</td>\n",
       "    </tr>\n",
       "    <tr>\n",
       "      <th>3</th>\n",
       "      <td>Pragya</td>\n",
       "      <td>12.0</td>\n",
       "    </tr>\n",
       "  </tbody>\n",
       "</table>\n",
       "</div>"
      ],
      "text/plain": [
       "     Name   Age\n",
       "0  Madhav  11.0\n",
       "1    Gopi  12.0\n",
       "2  Dhiraj   NaN\n",
       "3  Pragya  12.0"
      ]
     },
     "execution_count": 17,
     "metadata": {},
     "output_type": "execute_result"
    }
   ],
   "source": [
    "df_test"
   ]
  },
  {
   "cell_type": "code",
   "execution_count": 18,
   "id": "c55b8a09-c8c5-4651-a499-9de94ff7b89e",
   "metadata": {},
   "outputs": [],
   "source": [
    "df_test.dropna(inplace = True)"
   ]
  },
  {
   "cell_type": "code",
   "execution_count": 19,
   "id": "a6876cd9-6999-4519-b46c-8a0d3c933ff4",
   "metadata": {},
   "outputs": [
    {
     "data": {
      "text/html": [
       "<div>\n",
       "<style scoped>\n",
       "    .dataframe tbody tr th:only-of-type {\n",
       "        vertical-align: middle;\n",
       "    }\n",
       "\n",
       "    .dataframe tbody tr th {\n",
       "        vertical-align: top;\n",
       "    }\n",
       "\n",
       "    .dataframe thead th {\n",
       "        text-align: right;\n",
       "    }\n",
       "</style>\n",
       "<table border=\"1\" class=\"dataframe\">\n",
       "  <thead>\n",
       "    <tr style=\"text-align: right;\">\n",
       "      <th></th>\n",
       "      <th>Name</th>\n",
       "      <th>Age</th>\n",
       "    </tr>\n",
       "  </thead>\n",
       "  <tbody>\n",
       "    <tr>\n",
       "      <th>0</th>\n",
       "      <td>Madhav</td>\n",
       "      <td>11.0</td>\n",
       "    </tr>\n",
       "    <tr>\n",
       "      <th>1</th>\n",
       "      <td>Gopi</td>\n",
       "      <td>12.0</td>\n",
       "    </tr>\n",
       "    <tr>\n",
       "      <th>3</th>\n",
       "      <td>Pragya</td>\n",
       "      <td>12.0</td>\n",
       "    </tr>\n",
       "  </tbody>\n",
       "</table>\n",
       "</div>"
      ],
      "text/plain": [
       "     Name   Age\n",
       "0  Madhav  11.0\n",
       "1    Gopi  12.0\n",
       "3  Pragya  12.0"
      ]
     },
     "execution_count": 19,
     "metadata": {},
     "output_type": "execute_result"
    }
   ],
   "source": [
    "df_test"
   ]
  },
  {
   "cell_type": "code",
   "execution_count": 20,
   "id": "35e2db2b-c461-45bf-a2df-9196b7539362",
   "metadata": {},
   "outputs": [
    {
     "name": "stdout",
     "output_type": "stream",
     "text": [
      "<class 'pandas.core.frame.DataFrame'>\n",
      "Index: 11239 entries, 0 to 11250\n",
      "Data columns (total 13 columns):\n",
      " #   Column            Non-Null Count  Dtype  \n",
      "---  ------            --------------  -----  \n",
      " 0   User_ID           11239 non-null  int64  \n",
      " 1   Cust_name         11239 non-null  object \n",
      " 2   Product_ID        11239 non-null  object \n",
      " 3   Gender            11239 non-null  object \n",
      " 4   Age Group         11239 non-null  object \n",
      " 5   Age               11239 non-null  int64  \n",
      " 6   Marital_Status    11239 non-null  int64  \n",
      " 7   State             11239 non-null  object \n",
      " 8   Zone              11239 non-null  object \n",
      " 9   Occupation        11239 non-null  object \n",
      " 10  Product_Category  11239 non-null  object \n",
      " 11  Orders            11239 non-null  int64  \n",
      " 12  Amount            11239 non-null  float64\n",
      "dtypes: float64(1), int64(4), object(8)\n",
      "memory usage: 1.2+ MB\n"
     ]
    }
   ],
   "source": [
    "df.info()"
   ]
  },
  {
   "cell_type": "code",
   "execution_count": 21,
   "id": "dcd84003-657f-4b12-97e2-524e74c44ac5",
   "metadata": {},
   "outputs": [],
   "source": [
    "df['Amount'] = df['Amount'].astype('int')"
   ]
  },
  {
   "cell_type": "code",
   "execution_count": 22,
   "id": "8cd457a1-ee07-43fb-a54b-51551fd328c0",
   "metadata": {},
   "outputs": [
    {
     "name": "stdout",
     "output_type": "stream",
     "text": [
      "<class 'pandas.core.frame.DataFrame'>\n",
      "Index: 11239 entries, 0 to 11250\n",
      "Data columns (total 13 columns):\n",
      " #   Column            Non-Null Count  Dtype \n",
      "---  ------            --------------  ----- \n",
      " 0   User_ID           11239 non-null  int64 \n",
      " 1   Cust_name         11239 non-null  object\n",
      " 2   Product_ID        11239 non-null  object\n",
      " 3   Gender            11239 non-null  object\n",
      " 4   Age Group         11239 non-null  object\n",
      " 5   Age               11239 non-null  int64 \n",
      " 6   Marital_Status    11239 non-null  int64 \n",
      " 7   State             11239 non-null  object\n",
      " 8   Zone              11239 non-null  object\n",
      " 9   Occupation        11239 non-null  object\n",
      " 10  Product_Category  11239 non-null  object\n",
      " 11  Orders            11239 non-null  int64 \n",
      " 12  Amount            11239 non-null  int32 \n",
      "dtypes: int32(1), int64(4), object(8)\n",
      "memory usage: 1.2+ MB\n"
     ]
    }
   ],
   "source": [
    "df.info()"
   ]
  },
  {
   "cell_type": "code",
   "execution_count": 23,
   "id": "bb104e68-be6b-44f4-af31-2a142318f368",
   "metadata": {},
   "outputs": [
    {
     "data": {
      "text/plain": [
       "Index(['User_ID', 'Cust_name', 'Product_ID', 'Gender', 'Age Group', 'Age',\n",
       "       'Marital_Status', 'State', 'Zone', 'Occupation', 'Product_Category',\n",
       "       'Orders', 'Amount'],\n",
       "      dtype='object')"
      ]
     },
     "execution_count": 23,
     "metadata": {},
     "output_type": "execute_result"
    }
   ],
   "source": [
    "df.columns"
   ]
  },
  {
   "cell_type": "code",
   "execution_count": 24,
   "id": "333b6c0c-4cff-4bc1-81f7-ed609d97992d",
   "metadata": {},
   "outputs": [
    {
     "data": {
      "text/html": [
       "<div>\n",
       "<style scoped>\n",
       "    .dataframe tbody tr th:only-of-type {\n",
       "        vertical-align: middle;\n",
       "    }\n",
       "\n",
       "    .dataframe tbody tr th {\n",
       "        vertical-align: top;\n",
       "    }\n",
       "\n",
       "    .dataframe thead th {\n",
       "        text-align: right;\n",
       "    }\n",
       "</style>\n",
       "<table border=\"1\" class=\"dataframe\">\n",
       "  <thead>\n",
       "    <tr style=\"text-align: right;\">\n",
       "      <th></th>\n",
       "      <th>User_ID</th>\n",
       "      <th>Age</th>\n",
       "      <th>Marital_Status</th>\n",
       "      <th>Orders</th>\n",
       "      <th>Amount</th>\n",
       "    </tr>\n",
       "  </thead>\n",
       "  <tbody>\n",
       "    <tr>\n",
       "      <th>count</th>\n",
       "      <td>1.123900e+04</td>\n",
       "      <td>11239.000000</td>\n",
       "      <td>11239.000000</td>\n",
       "      <td>11239.000000</td>\n",
       "      <td>11239.000000</td>\n",
       "    </tr>\n",
       "    <tr>\n",
       "      <th>mean</th>\n",
       "      <td>1.003004e+06</td>\n",
       "      <td>35.410357</td>\n",
       "      <td>0.420055</td>\n",
       "      <td>2.489634</td>\n",
       "      <td>9453.610553</td>\n",
       "    </tr>\n",
       "    <tr>\n",
       "      <th>std</th>\n",
       "      <td>1.716039e+03</td>\n",
       "      <td>12.753866</td>\n",
       "      <td>0.493589</td>\n",
       "      <td>1.114967</td>\n",
       "      <td>5222.355168</td>\n",
       "    </tr>\n",
       "    <tr>\n",
       "      <th>min</th>\n",
       "      <td>1.000001e+06</td>\n",
       "      <td>12.000000</td>\n",
       "      <td>0.000000</td>\n",
       "      <td>1.000000</td>\n",
       "      <td>188.000000</td>\n",
       "    </tr>\n",
       "    <tr>\n",
       "      <th>25%</th>\n",
       "      <td>1.001492e+06</td>\n",
       "      <td>27.000000</td>\n",
       "      <td>0.000000</td>\n",
       "      <td>2.000000</td>\n",
       "      <td>5443.000000</td>\n",
       "    </tr>\n",
       "    <tr>\n",
       "      <th>50%</th>\n",
       "      <td>1.003064e+06</td>\n",
       "      <td>33.000000</td>\n",
       "      <td>0.000000</td>\n",
       "      <td>2.000000</td>\n",
       "      <td>8109.000000</td>\n",
       "    </tr>\n",
       "    <tr>\n",
       "      <th>75%</th>\n",
       "      <td>1.004426e+06</td>\n",
       "      <td>43.000000</td>\n",
       "      <td>1.000000</td>\n",
       "      <td>3.000000</td>\n",
       "      <td>12675.000000</td>\n",
       "    </tr>\n",
       "    <tr>\n",
       "      <th>max</th>\n",
       "      <td>1.006040e+06</td>\n",
       "      <td>92.000000</td>\n",
       "      <td>1.000000</td>\n",
       "      <td>4.000000</td>\n",
       "      <td>23952.000000</td>\n",
       "    </tr>\n",
       "  </tbody>\n",
       "</table>\n",
       "</div>"
      ],
      "text/plain": [
       "            User_ID           Age  Marital_Status        Orders        Amount\n",
       "count  1.123900e+04  11239.000000    11239.000000  11239.000000  11239.000000\n",
       "mean   1.003004e+06     35.410357        0.420055      2.489634   9453.610553\n",
       "std    1.716039e+03     12.753866        0.493589      1.114967   5222.355168\n",
       "min    1.000001e+06     12.000000        0.000000      1.000000    188.000000\n",
       "25%    1.001492e+06     27.000000        0.000000      2.000000   5443.000000\n",
       "50%    1.003064e+06     33.000000        0.000000      2.000000   8109.000000\n",
       "75%    1.004426e+06     43.000000        1.000000      3.000000  12675.000000\n",
       "max    1.006040e+06     92.000000        1.000000      4.000000  23952.000000"
      ]
     },
     "execution_count": 24,
     "metadata": {},
     "output_type": "execute_result"
    }
   ],
   "source": [
    "df.describe()"
   ]
  },
  {
   "cell_type": "code",
   "execution_count": 25,
   "id": "238a1b51-e769-4538-8068-07e2542037fe",
   "metadata": {},
   "outputs": [
    {
     "data": {
      "text/html": [
       "<div>\n",
       "<style scoped>\n",
       "    .dataframe tbody tr th:only-of-type {\n",
       "        vertical-align: middle;\n",
       "    }\n",
       "\n",
       "    .dataframe tbody tr th {\n",
       "        vertical-align: top;\n",
       "    }\n",
       "\n",
       "    .dataframe thead th {\n",
       "        text-align: right;\n",
       "    }\n",
       "</style>\n",
       "<table border=\"1\" class=\"dataframe\">\n",
       "  <thead>\n",
       "    <tr style=\"text-align: right;\">\n",
       "      <th></th>\n",
       "      <th>Age</th>\n",
       "      <th>Orders</th>\n",
       "      <th>Amount</th>\n",
       "    </tr>\n",
       "  </thead>\n",
       "  <tbody>\n",
       "    <tr>\n",
       "      <th>count</th>\n",
       "      <td>11239.000000</td>\n",
       "      <td>11239.000000</td>\n",
       "      <td>11239.000000</td>\n",
       "    </tr>\n",
       "    <tr>\n",
       "      <th>mean</th>\n",
       "      <td>35.410357</td>\n",
       "      <td>2.489634</td>\n",
       "      <td>9453.610553</td>\n",
       "    </tr>\n",
       "    <tr>\n",
       "      <th>std</th>\n",
       "      <td>12.753866</td>\n",
       "      <td>1.114967</td>\n",
       "      <td>5222.355168</td>\n",
       "    </tr>\n",
       "    <tr>\n",
       "      <th>min</th>\n",
       "      <td>12.000000</td>\n",
       "      <td>1.000000</td>\n",
       "      <td>188.000000</td>\n",
       "    </tr>\n",
       "    <tr>\n",
       "      <th>25%</th>\n",
       "      <td>27.000000</td>\n",
       "      <td>2.000000</td>\n",
       "      <td>5443.000000</td>\n",
       "    </tr>\n",
       "    <tr>\n",
       "      <th>50%</th>\n",
       "      <td>33.000000</td>\n",
       "      <td>2.000000</td>\n",
       "      <td>8109.000000</td>\n",
       "    </tr>\n",
       "    <tr>\n",
       "      <th>75%</th>\n",
       "      <td>43.000000</td>\n",
       "      <td>3.000000</td>\n",
       "      <td>12675.000000</td>\n",
       "    </tr>\n",
       "    <tr>\n",
       "      <th>max</th>\n",
       "      <td>92.000000</td>\n",
       "      <td>4.000000</td>\n",
       "      <td>23952.000000</td>\n",
       "    </tr>\n",
       "  </tbody>\n",
       "</table>\n",
       "</div>"
      ],
      "text/plain": [
       "                Age        Orders        Amount\n",
       "count  11239.000000  11239.000000  11239.000000\n",
       "mean      35.410357      2.489634   9453.610553\n",
       "std       12.753866      1.114967   5222.355168\n",
       "min       12.000000      1.000000    188.000000\n",
       "25%       27.000000      2.000000   5443.000000\n",
       "50%       33.000000      2.000000   8109.000000\n",
       "75%       43.000000      3.000000  12675.000000\n",
       "max       92.000000      4.000000  23952.000000"
      ]
     },
     "execution_count": 25,
     "metadata": {},
     "output_type": "execute_result"
    }
   ],
   "source": [
    "df[['Age','Orders','Amount']].describe()"
   ]
  },
  {
   "cell_type": "markdown",
   "id": "e7a649b1-78d5-43df-a60e-cdadb3a94e0c",
   "metadata": {},
   "source": [
    "- Exploratoty Data Analysis"
   ]
  },
  {
   "cell_type": "markdown",
   "id": "fdce6206-fba3-4c9d-abd0-0d232a853ebb",
   "metadata": {},
   "source": [
    "GENDER"
   ]
  },
  {
   "cell_type": "code",
   "execution_count": 28,
   "id": "12ae01bb-ba13-40dc-9977-9dadc0409a62",
   "metadata": {},
   "outputs": [
    {
     "data": {
      "text/plain": [
       "Index(['User_ID', 'Cust_name', 'Product_ID', 'Gender', 'Age Group', 'Age',\n",
       "       'Marital_Status', 'State', 'Zone', 'Occupation', 'Product_Category',\n",
       "       'Orders', 'Amount'],\n",
       "      dtype='object')"
      ]
     },
     "execution_count": 28,
     "metadata": {},
     "output_type": "execute_result"
    }
   ],
   "source": [
    "df.columns"
   ]
  },
  {
   "cell_type": "code",
   "execution_count": 29,
   "id": "a805b91c-60ac-4d8a-ad53-6f33c8ca9849",
   "metadata": {},
   "outputs": [
    {
     "data": {
      "image/png": "[encoded data removed]",
      "text/plain": [
       "<Figure size 640x480 with 1 Axes>"
      ]
     },
     "metadata": {},
     "output_type": "display_data"
    }
   ],
   "source": [
    "ax = sns.countplot(x = 'Gender', data = df)\n",
    "\n",
    "for bars in ax.containers:\n",
    "    ax.bar_label(bars)\n",
    "\n"
   ]
  },
  {
   "cell_type": "code",
   "execution_count": 30,
   "id": "5567033c-50da-4fba-800b-9ed19d6eeef7",
   "metadata": {},
   "outputs": [
    {
     "data": {
      "text/plain": [
       "<Axes: xlabel='Gender', ylabel='Amount'>"
      ]
     },
     "execution_count": 30,
     "metadata": {},
     "output_type": "execute_result"
    },
    {
     "data": {
      "image/png": "[encoded data removed]",
      "text/plain": [
       "<Figure size 640x480 with 1 Axes>"
      ]
     },
     "metadata": {},
     "output_type": "display_data"
    }
   ],
   "source": [
    "sales_gender = df.groupby(['Gender'], as_index = False)['Amount'].sum().sort_values(by='Amount', ascending = False)\n",
    "sns.barplot(x = 'Gender', y = 'Amount', data = sales_gender)\n"
   ]
  },
  {
   "cell_type": "markdown",
   "id": "efc9e797-cdff-4143-b81a-223b0f2186ca",
   "metadata": {},
   "source": [
    "- Form above graphs we can see that most of the buyers are females and even the purchasing power of females are greater than men"
   ]
  },
  {
   "cell_type": "markdown",
   "id": "f7adc877-9700-453e-a03c-78657f3c7cdd",
   "metadata": {},
   "source": [
    "# AGE"
   ]
  },
  {
   "cell_type": "code",
   "execution_count": 62,
   "id": "0bc0b373-5076-47f0-b03b-9fb22abb42aa",
   "metadata": {},
   "outputs": [
    {
     "data": {
      "text/plain": [
       "Index(['User_ID', 'Cust_name', 'Product_ID', 'Gender', 'Age Group', 'Age',\n",
       "       'Marital_Status', 'State', 'Zone', 'Occupation', 'Product_Category',\n",
       "       'Orders', 'Amount'],\n",
       "      dtype='object')"
      ]
     },
     "execution_count": 62,
     "metadata": {},
     "output_type": "execute_result"
    }
   ],
   "source": [
    "df.columns"
   ]
  },
  {
   "cell_type": "code",
   "execution_count": 68,
   "id": "5c4ccdbe-3ba6-44a7-8e16-9a79ba28bbf8",
   "metadata": {},
   "outputs": [
    {
     "data": {
      "image/png": "[encoded data removed]",
      "text/plain": [
       "<Figure size 640x480 with 1 Axes>"
      ]
     },
     "metadata": {},
     "output_type": "display_data"
    }
   ],
   "source": [
    "ax = sns.countplot(data = df , x = 'Age Group' , hue = 'Gender')\n",
    "\n",
    "for bars in ax.containers:\n",
    "    ax.bar_label(bars)"
   ]
  },
  {
   "cell_type": "code",
   "execution_count": 72,
   "id": "f718a3e8-b9a5-46ab-a522-bdceb94e69f8",
   "metadata": {},
   "outputs": [
    {
     "data": {
      "text/plain": [
       "<Axes: xlabel='Age Group', ylabel='Amount'>"
      ]
     },
     "execution_count": 72,
     "metadata": {},
     "output_type": "execute_result"
    },
    {
     "data": {
      "image/png": "[encoded data removed]",
      "text/plain": [
       "<Figure size 640x480 with 1 Axes>"
      ]
     },
     "metadata": {},
     "output_type": "display_data"
    }
   ],
   "source": [
    "sales_age = df.groupby(['Age Group'], as_index = False)['Amount'].sum().sort_values(by = 'Amount', ascending = False)\n",
    "\n",
    "sns.barplot(x = 'Age Group', y = 'Amount' , data = sales_age)"
   ]
  },
  {
   "cell_type": "markdown",
   "id": "37ed11e9-5bb7-4207-baf0-2dd4a859f57f",
   "metadata": {},
   "source": [
    "- from above graph we can see that most of the buyers are of age group between 26-35 yrs female"
   ]
  },
  {
   "cell_type": "code",
   "execution_count": 79,
   "id": "bb782195-1099-43d6-8026-70c84cf42518",
   "metadata": {},
   "outputs": [
    {
     "data": {
      "text/plain": [
       "Index(['User_ID', 'Cust_name', 'Product_ID', 'Gender', 'Age Group', 'Age',\n",
       "       'Marital_Status', 'State', 'Zone', 'Occupation', 'Product_Category',\n",
       "       'Orders', 'Amount'],\n",
       "      dtype='object')"
      ]
     },
     "execution_count": 79,
     "metadata": {},
     "output_type": "execute_result"
    }
   ],
   "source": [
    "df.columns"
   ]
  },
  {
   "cell_type": "code",
   "execution_count": 105,
   "id": "f21324d0-6721-4b83-a500-bfcae8a9c61d",
   "metadata": {},
   "outputs": [
    {
     "data": {
      "text/plain": [
       "<Axes: xlabel='State', ylabel='Orders'>"
      ]
     },
     "execution_count": 105,
     "metadata": {},
     "output_type": "execute_result"
    },
    {
     "data": {
      "image/png": "[encoded data removed]",
      "text/plain": [
       "<Figure size 1600x500 with 1 Axes>"
      ]
     },
     "metadata": {},
     "output_type": "display_data"
    }
   ],
   "source": [
    "sales_state = df.groupby(['State'], as_index = False)['Orders'].sum().sort_values(by = 'Orders', ascending = False).head(5)\n",
    "sns.set(rc = {'figure.figsize':(16,5)})\n",
    "sns.barplot(data = sales_state, x = 'State', y = 'Orders')"
   ]
  },
  {
   "cell_type": "code",
   "execution_count": 107,
   "id": "bba2f1c5-9b0d-40a6-aa06-4af4ba279687",
   "metadata": {},
   "outputs": [
    {
     "data": {
      "text/plain": [
       "<Axes: xlabel='State', ylabel='Amount'>"
      ]
     },
     "execution_count": 107,
     "metadata": {},
     "output_type": "execute_result"
    },
    {
     "data": {
      "image/png": "[encoded data removed]",
      "text/plain": [
       "<Figure size 1600x500 with 1 Axes>"
      ]
     },
     "metadata": {},
     "output_type": "display_data"
    }
   ],
   "source": [
    "sales_state = df.groupby(['State'], as_index = False)['Amount'].sum().sort_values(by = 'Amount' , ascending = False).head(5)\n",
    "\n",
    "sns.barplot(data = sales_state , x = 'State' , y = 'Amount')"
   ]
  },
  {
   "cell_type": "markdown",
   "id": "e698dd00-b21a-41c5-9809-a602f8036b6f",
   "metadata": {},
   "source": [
    "- From above graph we can see that most of the orders and total sales/amount are from Uttar Pradesh, Maharashtra, and Karnataka State respectively"
   ]
  },
  {
   "cell_type": "code",
   "execution_count": 110,
   "id": "0260f83f-3230-466a-93a4-7be656c70d92",
   "metadata": {},
   "outputs": [
    {
     "data": {
      "text/plain": [
       "Index(['User_ID', 'Cust_name', 'Product_ID', 'Gender', 'Age Group', 'Age',\n",
       "       'Marital_Status', 'State', 'Zone', 'Occupation', 'Product_Category',\n",
       "       'Orders', 'Amount'],\n",
       "      dtype='object')"
      ]
     },
     "execution_count": 110,
     "metadata": {},
     "output_type": "execute_result"
    }
   ],
   "source": [
    "df.columns"
   ]
  },
  {
   "cell_type": "code",
   "execution_count": 136,
   "id": "ec931b56-b52c-46b5-be3c-2d0666ab3e91",
   "metadata": {},
   "outputs": [
    {
     "data": {
      "image/png": "[encoded data removed]",
      "text/plain": [
       "<Figure size 400x500 with 1 Axes>"
      ]
     },
     "metadata": {},
     "output_type": "display_data"
    }
   ],
   "source": [
    "ax = sns.countplot(data = df , x = 'Marital_Status')\n",
    "sns.set(rc ={'figure.figsize' : (4,4)})\n",
    "for bars in ax.containers:\n",
    "    ax.bar_label(bars)\n"
   ]
  },
  {
   "cell_type": "code",
   "execution_count": 144,
   "id": "03125e66-d0d6-480c-af90-b36a3ed4169e",
   "metadata": {},
   "outputs": [
    {
     "data": {
      "text/plain": [
       "<Axes: xlabel='Marital_Status', ylabel='Amount'>"
      ]
     },
     "execution_count": 144,
     "metadata": {},
     "output_type": "execute_result"
    },
    {
     "data": {
      "image/png": "[encoded data removed]",
      "text/plain": [
       "<Figure size 500x500 with 1 Axes>"
      ]
     },
     "metadata": {},
     "output_type": "display_data"
    }
   ],
   "source": [
    "sale_marital = df.groupby(['Marital_Status' , 'Gender'], as_index = False)['Amount'].sum().sort_values('Amount' , ascending = False)\n",
    "\n",
    "sns.set(rc={'figure.figsize':(5,5)})\n",
    "sns.barplot(data = sale_marital, x = 'Marital_Status' , y = 'Amount' , hue = 'Gender')"
   ]
  },
  {
   "cell_type": "markdown",
   "id": "f70755e5-3c39-44ce-8ca3-caa257a64e30",
   "metadata": {},
   "source": [
    "- From above graph we can see that most of the buyers are married(Women) and they have high purchasing power."
   ]
  },
  {
   "cell_type": "markdown",
   "id": "ca275cc0-0964-4187-b063-199e7dca6ff2",
   "metadata": {},
   "source": [
    "# Occupation"
   ]
  },
  {
   "cell_type": "code",
   "execution_count": 158,
   "id": "6a03a0d1-2bd0-4305-bbfa-fc4dc669997c",
   "metadata": {},
   "outputs": [
    {
     "data": {
      "image/png": "[encoded data removed]",
      "text/plain": [
       "<Figure size 2000x500 with 1 Axes>"
      ]
     },
     "metadata": {},
     "output_type": "display_data"
    }
   ],
   "source": [
    "sns.set(rc={'figure.figsize':(20,5)})\n",
    "ax = sns.countplot(data = df , x = 'Occupation')\n",
    "for bars in ax.containers:\n",
    "    ax.bar_label(bars)\n"
   ]
  },
  {
   "cell_type": "code",
   "execution_count": 168,
   "id": "37629f9e-558e-41c3-92d5-f2c8cde34639",
   "metadata": {},
   "outputs": [
    {
     "data": {
      "text/plain": [
       "<Axes: xlabel='Occupation', ylabel='Amount'>"
      ]
     },
     "execution_count": 168,
     "metadata": {},
     "output_type": "execute_result"
    },
    {
     "data": {
      "image/png": "[encoded data removed]",
      "text/plain": [
       "<Figure size 2000x500 with 1 Axes>"
      ]
     },
     "metadata": {},
     "output_type": "display_data"
    }
   ],
   "source": [
    "sales_occ = df.groupby(['Occupation', 'Gender' ],as_index = False)['Amount'].sum().sort_values(by='Amount' , ascending = False)\n",
    "sns.set(rc={'figure.figsize':(20,5)})\n",
    "sns.barplot(data = sales_occ , x = 'Occupation' , y ='Amount' , hue = 'Gender')"
   ]
  },
  {
   "cell_type": "markdown",
   "id": "9c8f8e6e-d7ff-4e18-b40b-d5e2304eb2bc",
   "metadata": {},
   "source": [
    "- From above graphs we can see that most of the buyers are working in OT, Aviation and healthcare"
   ]
  },
  {
   "cell_type": "code",
   "execution_count": 173,
   "id": "17dee145-0018-4846-809a-9b58402af007",
   "metadata": {},
   "outputs": [
    {
     "data": {
      "text/plain": [
       "Index(['User_ID', 'Cust_name', 'Product_ID', 'Gender', 'Age Group', 'Age',\n",
       "       'Marital_Status', 'State', 'Zone', 'Occupation', 'Product_Category',\n",
       "       'Orders', 'Amount'],\n",
       "      dtype='object')"
      ]
     },
     "execution_count": 173,
     "metadata": {},
     "output_type": "execute_result"
    }
   ],
   "source": [
    "df.columns\n"
   ]
  },
  {
   "cell_type": "code",
   "execution_count": 183,
   "id": "fe3b2264-d2f7-471f-8f4a-3b734799ccf0",
   "metadata": {},
   "outputs": [
    {
     "data": {
      "image/png": "[encoded data removed]",
      "text/plain": [
       "<Figure size 2500x500 with 1 Axes>"
      ]
     },
     "metadata": {},
     "output_type": "display_data"
    }
   ],
   "source": [
    "ax = sns.countplot(data = df , x = 'Product_Category')\n",
    "sns.set(rc={'figure.figsize':(25,3)})\n",
    "for bars in ax.containers:\n",
    "    ax.bar_label(bars)"
   ]
  },
  {
   "cell_type": "code",
   "execution_count": 201,
   "id": "eba93bb1-456a-4a36-bca5-dd07829c3082",
   "metadata": {},
   "outputs": [
    {
     "data": {
      "image/png": "[encoded data removed]",
      "text/plain": [
       "<Figure size 2000x500 with 1 Axes>"
      ]
     },
     "metadata": {},
     "output_type": "display_data"
    }
   ],
   "source": [
    "sale_product = df.groupby(['Product_Category'], as_index = False)['Amount'].sum().sort_values(by = 'Amount' , ascending = False).head(10)\n",
    "sns.barplot(data = sale_product , x = 'Product_Category' , y = 'Amount')\n",
    "sns.set(rc ={'figure.figsize':(20,5)})"
   ]
  },
  {
   "cell_type": "markdown",
   "id": "ab9e320e-973f-4e92-9f6c-e34a3b1d3bd3",
   "metadata": {},
   "source": [
    "* From above graph we can see that most of the sold products are from Food , Footwear and Electronics category"
   ]
  },
  {
   "cell_type": "markdown",
   "id": "a7353976-cfa8-460c-8e33-12cf3eb5231b",
   "metadata": {},
   "source": [
    "# Conclusion \n",
    "- Married women age group 26-35 yrs from UP, Maharastra and Karnataka working in IT, Healthcare and Aviation are more likely to buy products from Food, Clothing and Electronics category"
   ]
  },
  {
   "cell_type": "code",
   "execution_count": null,
   "id": "6c6e7c42-3831-4450-9268-d197072b31b3",
   "metadata": {},
   "outputs": [],
   "source": []
  }
 ],
 "metadata": {
  "kernelspec": {
   "display_name": "Python 3 (ipykernel)",
   "language": "python",
   "name": "python3"
  },
  "language_info": {
   "codemirror_mode": {
    "name": "ipython",
    "version": 3
   },
   "file_extension": ".py",
   "mimetype": "text/x-python",
   "name": "python",
   "nbconvert_exporter": "python",
   "pygments_lexer": "ipython3",
   "version": "3.12.4"
  }
 },
 "nbformat": 4,
 "nbformat_minor": 5
}
